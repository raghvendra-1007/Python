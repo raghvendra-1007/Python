{
 "cells": [
  {
   "cell_type": "markdown",
   "id": "0",
   "metadata": {},
   "source": [
    "# Print Function [print()]"
   ]
  },
  {
   "cell_type": "markdown",
   "id": "1",
   "metadata": {},
   "source": [
    "- Print function is a function which prints whatever we pass under this funtion as an argument.  \n",
    "- Now Print is not more considered as a statement, since python 3 print becomes a function not a statement just like what is it in python 2.  \n",
    "- we can pass characters,strings,integers or anything under print function, but print function automatically convert everthing we pass as a string.  \n",
    "- since python is a function that's why we have to use paranthesis with it to tell the function what to print.  \n",
    "- and we use quotations [\"\",''] to tell python that whatever is under these quotations has to be considered as a text only and just print it as it is.  "
   ]
  },
  {
   "cell_type": "code",
   "execution_count": null,
   "id": "2",
   "metadata": {},
   "outputs": [],
   "source": [
    "print(\"Raghvendra Sharma\")"
   ]
  },
  {
   "cell_type": "markdown",
   "id": "3",
   "metadata": {},
   "source": [
    "# Quotes [\" \",' ']"
   ]
  },
  {
   "cell_type": "markdown",
   "id": "4",
   "metadata": {},
   "source": [
    "Quotes are special symbols which is used to define text.  \n",
    "We have generally 3 types of quotes:-  \n",
    "- Single quote (' ') \n",
    "- Double quote (\" \")  \n",
    "both are of similar use but we use them based on our personal preference.  \n",
    "- Triple quote (''' ''')/(\"\"\" \"\"\") = they are used for multi line strings.  \n",
    "- Sometimes we need quotes to be appeared as a part of string in the output.  \n",
    "so we use the combination of quotes as shown below"
   ]
  },
  {
   "cell_type": "code",
   "execution_count": null,
   "id": "5",
   "metadata": {},
   "outputs": [],
   "source": [
    "print('Raghvendra Sharma')\n",
    "\n",
    "print(\"Raghav Sharma\")\n",
    "\n",
    "print('''Raghvendra\n",
    "      Sharma''')\n",
    "\n",
    "print(\"\"\"Raghav\n",
    "      Sharma\"\"\")\n",
    "\n",
    "print(\"Raghvendra Sharma is an exceptional 'Data Scientist'\")\n",
    "\n",
    "print('Raghvendra Sharma is an exceptional \"Data Scientist\"')"
   ]
  },
  {
   "cell_type": "markdown",
   "id": "6",
   "metadata": {},
   "source": [
    "# Newline character [\\n]"
   ]
  },
  {
   "cell_type": "markdown",
   "id": "7",
   "metadata": {},
   "source": [
    "\\n is used to move the cursor at the beginning of the new line.  \n",
    "so the further text will get appeared from the next line."
   ]
  },
  {
   "cell_type": "code",
   "execution_count": null,
   "id": "8",
   "metadata": {},
   "outputs": [],
   "source": [
    "print(\"Raghvendra Sharma\\nis an exceptional Data Scientist\")"
   ]
  },
  {
   "cell_type": "markdown",
   "id": "9",
   "metadata": {},
   "source": [
    "# Concatenation [+]"
   ]
  },
  {
   "cell_type": "markdown",
   "id": "10",
   "metadata": {},
   "source": [
    "Concatenation means joining two or more strings together to make one longer string"
   ]
  },
  {
   "cell_type": "code",
   "execution_count": null,
   "id": "11",
   "metadata": {},
   "outputs": [],
   "source": [
    "print(\"Raghvendra\"+\"Sharma\")\n",
    "\n",
    "print(\"Raghvendra\"+\" \"+\"Sharma\")"
   ]
  },
  {
   "cell_type": "markdown",
   "id": "12",
   "metadata": {},
   "source": [
    "# Variables"
   ]
  },
  {
   "cell_type": "markdown",
   "id": "13",
   "metadata": {},
   "source": [
    "- Variable is considered as a storage or a container where we can store data.  \n",
    "- Variable is a way by which we can name that container so we can use it in future by calling it with its name.  \n",
    "but we have to follow some rules while creating a variable name are:-  \n",
    "- The name must start with a letter (a-z,A-Z) or a underscore(_).  \n",
    "- The name cannot be start with a number.  \n",
    "- The name can contain letter,number,underscore.  \n",
    "- The name cannot contain any symbol.  \n",
    "- Variables are case sensitive. "
   ]
  },
  {
   "cell_type": "code",
   "execution_count": null,
   "id": "14",
   "metadata": {},
   "outputs": [],
   "source": [
    "name = \"Raghvendra sharma\"\n",
    "\n",
    "print(name)\n",
    "\n",
    "print(\"My name is\"+\" \"+name)"
   ]
  },
  {
   "cell_type": "markdown",
   "id": "15",
   "metadata": {},
   "source": [
    "# Input Function [input()]"
   ]
  },
  {
   "cell_type": "markdown",
   "id": "16",
   "metadata": {},
   "source": [
    "- Input function is used to take input from the users.  \n",
    "- Input fuction stops the python program and waits for the user to type something and press Enter.  \n",
    "- Intup function always returns string only.  \n",
    "- If input function is assigned to a variable then the input directly gets stored under that variable name."
   ]
  },
  {
   "cell_type": "code",
   "execution_count": null,
   "id": "17",
   "metadata": {},
   "outputs": [],
   "source": [
    "print(input(\"type whatever you want to see on the screen\"))\n",
    "\n",
    "name=(input(\"what is your name?\"))\n",
    "print(name)"
   ]
  },
  {
   "cell_type": "markdown",
   "id": "18",
   "metadata": {},
   "source": [
    "# Length function [len()]  "
   ]
  },
  {
   "cell_type": "markdown",
   "id": "19",
   "metadata": {},
   "source": [
    "- It is a built-in function that returns the length of object.  \n",
    "- It tells us the no. of characters/items are in a  string,list,tuple and all"
   ]
  },
  {
   "cell_type": "code",
   "execution_count": null,
   "id": "20",
   "metadata": {},
   "outputs": [],
   "source": [
    "print(len(\"Raghav\"))\n",
    "\n",
    "Name = \"Raghvendra\"\n",
    "print(len(Name))\n",
    "\n",
    "Surname = input(\"What is your surname\")\n",
    "print(len(Surname))"
   ]
  },
  {
   "cell_type": "markdown",
   "id": "21",
   "metadata": {},
   "source": [
    "# Comments"
   ]
  },
  {
   "cell_type": "markdown",
   "id": "22",
   "metadata": {},
   "source": [
    "- Comment starts from '#' symbol.\n",
    "- These are simple text which was ignored by python while running the code.\n",
    "- Using '#' we tell python that this part is for Humans not for Computer.\n",
    "- Sometimes we use multi line string as multi line comments too (when we don't store multi line strings under a variable then they act as a multi line comment)\n",
    "\n",
    "Comments are used for different purpose:-\n",
    "- To explain the code that what,why we have done.\n",
    "- To make us remind something we need to update or what.\n",
    "- To make others understand what we have done. "
   ]
  },
  {
   "cell_type": "code",
   "execution_count": null,
   "id": "23",
   "metadata": {},
   "outputs": [],
   "source": [
    "# This is my first code\n",
    "print(\"Hello World\")\n",
    "\n",
    "Name = \"Raghvendra Sharma\"  # Name is a Variable here\n",
    "print(Name)   # We are using print function to print name here"
   ]
  }
 ],
 "metadata": {
  "kernelspec": {
   "display_name": "Python 3",
   "language": "python",
   "name": "python3"
  },
  "language_info": {
   "codemirror_mode": {
    "name": "ipython",
    "version": 3
   },
   "file_extension": ".py",
   "mimetype": "text/x-python",
   "name": "python",
   "nbconvert_exporter": "python",
   "pygments_lexer": "ipython3",
   "version": "3.12.9"
  }
 },
 "nbformat": 4,
 "nbformat_minor": 5
}
