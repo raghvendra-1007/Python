{
 "cells": [
  {
   "cell_type": "markdown",
   "id": "157b5a8b",
   "metadata": {},
   "source": [
    "# Print Function [print()]"
   ]
  },
  {
   "cell_type": "markdown",
   "id": "bee8297c",
   "metadata": {},
   "source": [
    "- Print function is a function which prints whatever we pass under this funtion as an argument.  \n",
    "- Now Print is not more considered as a statement, since python 3 print becomes a function not a statement just like what is it in python 2.  \n",
    "- we can pass characters,strings,integers or anything under print function, but print function automatically convert everthing we pass as a string.  \n",
    "- since python is a function that's why we have to use paranthesis with it to tell the function what to print.  \n",
    "- and we use quotations [\"\",''] to tell python that whatever is under these quotations has to be considered as a text only and just print it as it is.  "
   ]
  },
  {
   "cell_type": "code",
   "execution_count": 2,
   "id": "1b8021cf",
   "metadata": {},
   "outputs": [
    {
     "name": "stdout",
     "output_type": "stream",
     "text": [
      "Raghvendra Sharma\n"
     ]
    }
   ],
   "source": [
    "print(\"Raghvendra Sharma\")"
   ]
  },
  {
   "cell_type": "markdown",
   "id": "c2774b68",
   "metadata": {},
   "source": [
    "# Quotes [\" \",' ']"
   ]
  },
  {
   "cell_type": "markdown",
   "id": "6b6a2312",
   "metadata": {},
   "source": [
    "Quotes are special symbols which is used to define text.  \n",
    "We have generally 3 types of quotes:-  \n",
    "- Single quote (' ') \n",
    "- Double quote (\" \")  \n",
    "both are of similar use but we use them based on our personal preference.  \n",
    "- Triple quote (''' ''')/(\"\"\" \"\"\") = they are used for multi line strings.  \n",
    "- Sometimes we need quotes to be appeared as a part of string in the output.  \n",
    "so we use the combination of quotes as shown below"
   ]
  },
  {
   "cell_type": "code",
   "execution_count": 37,
   "id": "350fbb1a",
   "metadata": {},
   "outputs": [
    {
     "name": "stdout",
     "output_type": "stream",
     "text": [
      "Raghvendra Sharma\n",
      "Raghav Sharma\n",
      "Raghvendra\n",
      "      Sharma\n",
      "Raghav\n",
      "      Sharma\n",
      "Raghvendra Sharma is an exceptional 'Data Scientist'\n",
      "Raghvendra Sharma is an exceptional \"Data Scientist\"\n"
     ]
    }
   ],
   "source": [
    "print('Raghvendra Sharma')\n",
    "\n",
    "print(\"Raghav Sharma\")\n",
    "\n",
    "print('''Raghvendra\n",
    "      Sharma''')\n",
    "\n",
    "print(\"\"\"Raghav\n",
    "      Sharma\"\"\")\n",
    "\n",
    "print(\"Raghvendra Sharma is an exceptional 'Data Scientist'\")\n",
    "\n",
    "print('Raghvendra Sharma is an exceptional \"Data Scientist\"')"
   ]
  },
  {
   "cell_type": "markdown",
   "id": "e676564d",
   "metadata": {},
   "source": [
    "# Newline character [\\n]"
   ]
  },
  {
   "cell_type": "markdown",
   "id": "efbd714c",
   "metadata": {},
   "source": [
    "\\n is used to move the cursor at the beginning of the new line.  \n",
    "so the further text will get appeared from the next line."
   ]
  },
  {
   "cell_type": "code",
   "execution_count": 14,
   "id": "a6bd7b2f",
   "metadata": {},
   "outputs": [
    {
     "name": "stdout",
     "output_type": "stream",
     "text": [
      "Raghvendra Sharma\n",
      "is an exceptional Data Scientist\n"
     ]
    }
   ],
   "source": [
    "print(\"Raghvendra Sharma\\nis an exceptional Data Scientist\")"
   ]
  },
  {
   "cell_type": "markdown",
   "id": "78e5636a",
   "metadata": {},
   "source": [
    "# Concatenation [+]"
   ]
  },
  {
   "cell_type": "markdown",
   "id": "07e1c895",
   "metadata": {},
   "source": [
    "Concatenation means joining two or more strings together to make one longer string"
   ]
  },
  {
   "cell_type": "code",
   "execution_count": 36,
   "id": "7092a78f",
   "metadata": {},
   "outputs": [
    {
     "name": "stdout",
     "output_type": "stream",
     "text": [
      "RaghvendraSharma\n",
      "Raghvendra Sharma\n"
     ]
    }
   ],
   "source": [
    "print(\"Raghvendra\"+\"Sharma\")\n",
    "\n",
    "print(\"Raghvendra\"+\" \"+\"Sharma\")"
   ]
  },
  {
   "cell_type": "markdown",
   "id": "cf712e69",
   "metadata": {},
   "source": [
    "# Variables"
   ]
  },
  {
   "cell_type": "markdown",
   "id": "99058919",
   "metadata": {},
   "source": [
    "- Variable is considered as a storage or a container where we can store data.  \n",
    "- Variable is a way by which we can name that container so we can use it in future by calling it with its name.  \n",
    "but we have to follow some rules while creating a variable name are:-  \n",
    "- The name must start with a letter (a-z,A-Z) or a underscore(_).  \n",
    "- The name cannot be start with a number.  \n",
    "- The name can contain letter,number,underscore.  \n",
    "- The name cannot contain any symbol.  \n",
    "- Variables are case sensitive. "
   ]
  },
  {
   "cell_type": "code",
   "execution_count": 35,
   "id": "3cc6e2bc",
   "metadata": {},
   "outputs": [
    {
     "name": "stdout",
     "output_type": "stream",
     "text": [
      "Raghvendra sharma\n",
      "My name is Raghvendra sharma\n"
     ]
    }
   ],
   "source": [
    "name = \"Raghvendra sharma\"\n",
    "\n",
    "print(name)\n",
    "\n",
    "print(\"My name is\"+\" \"+name)"
   ]
  },
  {
   "cell_type": "markdown",
   "id": "1eed2a61",
   "metadata": {},
   "source": [
    "# Input Function [input()]"
   ]
  },
  {
   "cell_type": "markdown",
   "id": "f2db18b1",
   "metadata": {},
   "source": [
    "- Input function is used to take input from the users.  \n",
    "- Input fuction stops the python program and waits for the user to type something and press Enter.  \n",
    "- Intup function always returns string only.  \n",
    "- If input function is assigned to a variable then the input directly gets stored under that variable name."
   ]
  },
  {
   "cell_type": "code",
   "execution_count": 34,
   "id": "78232427",
   "metadata": {},
   "outputs": [
    {
     "name": "stdout",
     "output_type": "stream",
     "text": [
      "Hello Brother\n",
      "Raghvendra Sharma\n"
     ]
    }
   ],
   "source": [
    "print(input(\"type whatever you want to see on the screen\"))\n",
    "\n",
    "name=(input(\"what is your name?\"))\n",
    "print(name)"
   ]
  },
  {
   "cell_type": "markdown",
   "id": "990fdd9d",
   "metadata": {},
   "source": [
    "# Length function [len()]  "
   ]
  },
  {
   "cell_type": "markdown",
   "id": "dbaf9c6b",
   "metadata": {},
   "source": [
    "- It is a built-in function that returns the length of object.  \n",
    "- It tells us the no. of characters/items are in a  string,list,tuple and all"
   ]
  },
  {
   "cell_type": "code",
   "execution_count": 33,
   "id": "4cd8420c",
   "metadata": {},
   "outputs": [
    {
     "name": "stdout",
     "output_type": "stream",
     "text": [
      "6\n",
      "10\n",
      "6\n"
     ]
    }
   ],
   "source": [
    "print(len(\"Raghav\"))\n",
    "\n",
    "Name = \"Raghvendra\"\n",
    "print(len(Name))\n",
    "\n",
    "Surname = input(\"What is your surname\")\n",
    "print(len(Surname))"
   ]
  },
  {
   "cell_type": "markdown",
   "id": "2cc8c02c",
   "metadata": {},
   "source": [
    "# Comments"
   ]
  },
  {
   "cell_type": "markdown",
   "id": "068db558",
   "metadata": {},
   "source": [
    "- Comment starts from '#' symbol.\n",
    "- These are simple text which was ignored by python while running the code.\n",
    "- Using '#' we tell python that this part is for Humans not for Computer.\n",
    "- Sometimes we use multi line string as multi line comments too (when we don't store multi line strings under a variable then they act as a multi line comment)\n",
    "\n",
    "Comments are used for different purpose:-\n",
    "- To explain the code that what,why we have done.\n",
    "- To make us remind something we need to update or what.\n",
    "- To make others understand what we have done. "
   ]
  },
  {
   "cell_type": "code",
   "execution_count": 39,
   "id": "ee9f4132",
   "metadata": {},
   "outputs": [
    {
     "name": "stdout",
     "output_type": "stream",
     "text": [
      "Hello World\n",
      "Raghvendra Sharma\n"
     ]
    }
   ],
   "source": [
    "# This is my first code\n",
    "print(\"Hello World\")\n",
    "\n",
    "Name = \"Raghvendra Sharma\"  # Name is a Variable here\n",
    "print(Name)   # We are using print function to print name here"
   ]
  }
 ],
 "metadata": {
  "kernelspec": {
   "display_name": "Python 3",
   "language": "python",
   "name": "python3"
  },
  "language_info": {
   "codemirror_mode": {
    "name": "ipython",
    "version": 3
   },
   "file_extension": ".py",
   "mimetype": "text/x-python",
   "name": "python",
   "nbconvert_exporter": "python",
   "pygments_lexer": "ipython3",
   "version": "3.12.9"
  }
 },
 "nbformat": 4,
 "nbformat_minor": 5
}
